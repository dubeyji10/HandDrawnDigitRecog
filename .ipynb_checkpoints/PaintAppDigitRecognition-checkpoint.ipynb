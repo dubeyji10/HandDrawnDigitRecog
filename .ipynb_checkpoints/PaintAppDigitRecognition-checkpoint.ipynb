{
 "cells": [
  {
   "cell_type": "code",
   "execution_count": 1,
   "metadata": {},
   "outputs": [],
   "source": [
    "import numpy as np\n",
    "from matplotlib import pyplot as plt"
   ]
  },
  {
   "cell_type": "code",
   "execution_count": 2,
   "metadata": {},
   "outputs": [
    {
     "name": "stdout",
     "output_type": "stream",
     "text": [
      " Volume in drive C is OS\n",
      " Volume Serial Number is BA0E-93CE\n",
      "\n",
      " Directory of C:\\Users\\asus\\Documents\\ML101\\ML_andrewNg\\week4_self\\mnist\n",
      "\n",
      "08/14/2020  09:53 PM    <DIR>          .\n",
      "08/14/2020  09:53 PM    <DIR>          ..\n",
      "08/14/2020  06:58 PM    <DIR>          .ipynb_checkpoints\n",
      "08/14/2020  03:56 PM           188,528 best_theta_1.npy\n",
      "08/14/2020  03:56 PM             2,608 best_theta_2.npy\n",
      "08/14/2020  05:08 PM           188,528 best_weight1.npy\n",
      "08/14/2020  05:08 PM             2,608 best_weight2.npy\n",
      "08/14/2020  06:19 PM           188,528 best2_theta_1.npy\n",
      "08/14/2020  06:19 PM             2,608 best2_theta_2.npy\n",
      "08/14/2020  05:16 PM       376,320,128 flatten_X_train.npy\n",
      "07/19/2020  01:28 PM         7,840,128 MNIST_X_TEST.npy\n",
      "07/19/2020  01:23 PM        47,040,128 MNIST_X_TRAIN.npy\n",
      "07/19/2020  01:28 PM            10,128 MNIST_y_TEST.npy\n",
      "07/19/2020  01:24 PM            60,128 MNIST_y_TRAIN.npy\n",
      "08/14/2020  09:53 PM            35,197 PaintAppDigitRecognition.ipynb\n",
      "08/14/2020  02:53 PM         3,920,128 small_X.npy\n",
      "08/14/2020  03:15 PM        31,360,128 small_X_train.npy\n",
      "08/14/2020  05:29 PM        62,720,128 small_X_train2.npy\n",
      "08/14/2020  02:53 PM            40,128 small_y.npy\n",
      "08/14/2020  06:41 PM           177,753 Untitled.ipynb\n",
      "08/14/2020  06:57 PM            12,240 Untitled1.ipynb\n",
      "              18 File(s)    530,109,750 bytes\n",
      "               3 Dir(s)  336,677,191,680 bytes free\n"
     ]
    }
   ],
   "source": [
    "ls"
   ]
  },
  {
   "cell_type": "markdown",
   "metadata": {},
   "source": [
    "### import best weights obtained after training"
   ]
  },
  {
   "cell_type": "code",
   "execution_count": 10,
   "metadata": {},
   "outputs": [
    {
     "data": {
      "text/plain": [
       "((30, 785), (10, 31))"
      ]
     },
     "execution_count": 10,
     "metadata": {},
     "output_type": "execute_result"
    }
   ],
   "source": [
    "theta1 = np.load('minst/best_theta_1.npy')\n",
    "theta2 = np.load('mnist/best_theta_2.npy')\n",
    "theta1.shape,theta2.shape"
   ]
  },
  {
   "cell_type": "markdown",
   "metadata": {},
   "source": [
    "## A neural network with 2 hidden layers\n",
    "# first hidden-layer : 30 cells"
   ]
  },
  {
   "cell_type": "code",
   "execution_count": 4,
   "metadata": {},
   "outputs": [],
   "source": [
    "def sigmoid(z):\n",
    "    return 1/(1+np.exp(-z))"
   ]
  },
  {
   "cell_type": "code",
   "execution_count": 5,
   "metadata": {},
   "outputs": [],
   "source": [
    "def feed_forward(tempX):\n",
    "    a1 = np.insert(tempX,0,np.ones(1),axis=0)\n",
    "    z2 = np.dot(a1,theta1.T)\n",
    "    a2 = sigmoid(z2)\n",
    "    a2 = np.insert(a2,0,np.ones(1),axis=0)\n",
    "    z3 = np.dot(a2,theta2.T)\n",
    "    a3 = sigmoid(z3)\n",
    "#     return a1, z2, a2, z3, h\n",
    "    return np.asarray(a3)"
   ]
  },
  {
   "cell_type": "markdown",
   "metadata": {},
   "source": [
    "## Now the paint app"
   ]
  },
  {
   "cell_type": "code",
   "execution_count": 6,
   "metadata": {},
   "outputs": [],
   "source": [
    "from tkinter import *\n",
    "import tkinter.ttk as ttk\n",
    "import tkinter as tk\n",
    "from tkinter import colorchooser\n",
    "from tkinter import filedialog\n",
    "from PIL import Image, ImageDraw, ImageGrab, ImageTk\n",
    "import PIL\n",
    "from tkinter import messagebox\n",
    "import win32gui\n",
    "import matplotlib.image as mpimg"
   ]
  },
  {
   "cell_type": "code",
   "execution_count": 7,
   "metadata": {},
   "outputs": [],
   "source": [
    "%matplotlib qt"
   ]
  },
  {
   "cell_type": "code",
   "execution_count": 11,
   "metadata": {},
   "outputs": [],
   "source": [
    "root = Tk()\n",
    "root.title('Program.com Paint Program')\n",
    "#root.geometry ('800*800')\n",
    "\n",
    "bg_color = \"black\"\n",
    "brush_color = \"white\"\n",
    "\n",
    "\n",
    "def paint(e):\n",
    "    \n",
    "    brush_width = \"{:.0f}\".format(my_slider.get())\n",
    "    brush_type2 = brush_type.get()\n",
    "    \n",
    "    # starting position\n",
    "    x1 = e.x -1\n",
    "    y1 = e.y -1\n",
    "    # ending position\n",
    "    \n",
    "    x2 = e.x +1\n",
    "    y2 = e.y +1\n",
    "    \n",
    "    #Draw on canvas\n",
    "    \n",
    "    my_canvas.create_line(x1, y1, x2, y2, fill=brush_color, width=brush_width, capstyle=brush_type2, smooth=True)\n",
    "\n",
    "\n",
    "#Change size of brush\n",
    "def change_brush_size(thing):\n",
    "    slider_label.config(text='%0.0f' % float(my_slider.get()))\n",
    "\n",
    "#Change brush color\n",
    "def change_brush_color():\n",
    "    global brush_color\n",
    "#     brush_color = \"black\"\n",
    "    brush_color = \"white\"\n",
    "    brush_color = colorchooser.askcolor(color=brush_color)[1]\n",
    "\n",
    "#Clear Screen\n",
    "def clear_screen():\n",
    "    my_canvas.delete(ALL)\n",
    "    my_canvas.config(bg=\"black\")\n",
    "\n",
    "# #Save Image\n",
    "# def save_as_png():\n",
    "#     result = filedialog.asksaveasfilename(initialdir='c:/paint/images/', filetypes=((\"png files\", \"*.png\"), (\"all files\", \"*.*\")))\n",
    "    \n",
    "#     if result.endswith('.png'):\n",
    "#         pass\n",
    "#     else:\n",
    "#         result = result + '.png'\n",
    "\n",
    "#     if result:\n",
    "#         HWND = my_canvas.winfo_id() # get the handle of the canvas\n",
    "#         rect = win32gui.GetWindowRect(HWND) # get the coordinate of the canvas\n",
    "#         im = ImageGrab.grab(rect).save(result)\n",
    "# #         x=root.winfo_rootx()+my_canvas.winfo_x()+10\n",
    "# #         y=root.winfo_rooty()+my_canvas.winfo_y()+50\n",
    "# #         x1=x+my_canvas.winfo_width()-30\n",
    "# #         y1=y+my_canvas.winfo_height()-30\n",
    "# #         ImageGrab.grab().crop((x,y,x1,y1)).save(result)\n",
    "        \n",
    "#         #Pop Up success message box\n",
    "#         messagebox.showinfo(\"Image Saved\", \"Your image has been saved!\")\n",
    "\n",
    "#     result_label = Label(root, text=result)\n",
    "#     result_label.pack(pady=20)\n",
    "    \n",
    "    \n",
    "# predicting digit drawn on canvas\n",
    "\n",
    "def predict_digit_drawn():\n",
    "\n",
    "    HWND = my_canvas.winfo_id() # get the handle of the canvas\n",
    "    rect = win32gui.GetWindowRect(HWND) # get the coordinate of the canvas\n",
    "\n",
    "    im = ImageGrab.grab(rect)\n",
    "\n",
    "    digit_drawn = im.convert('L') \n",
    "\n",
    "    digit_drawn = digit_drawn.resize((28,28))\n",
    "\n",
    "    arr = np.asarray(digit_drawn)\n",
    "\n",
    "    tempX = arr.reshape(-1)\n",
    "#     normalize\n",
    "    tempX = tempX - tempX.mean()\n",
    "    tempX = tempX/tempX.std()\n",
    "#  ----------------\n",
    "    h = feed_forward(tempX)\n",
    "\n",
    "    \n",
    "#     print(\"probabilities : \")\n",
    "#     for i in range(10):\n",
    "#         print(i,\"-> {:.8f}\".format(h[i]),end=\"\\n\")\n",
    "#     print('*'*50)\n",
    "    x = np.arange(10)\n",
    "    plt.bar(x, height=h)\n",
    "    plt.xticks(x, [str(i) for i in range(10)])\n",
    "    plt.imshow(arr,cmap=\"Greys_r\")\n",
    "\n",
    "    plt.suptitle(\"predicted digit is : \"+str(np.argmax(h)))\n",
    "    plt.xlabel(\"digit\")\n",
    "    \n",
    "    plt.ylabel(\"probability\")\n",
    "    \n",
    "#szie of our canvas\n",
    "w = 400\n",
    "h = 400\n",
    "\n",
    "my_canvas = Canvas(root, width=w, height=h, bg=\"black\")\n",
    "my_canvas.pack(pady=20)\n",
    "\n",
    "\n",
    "my_canvas.bind('<B1-Motion>', paint)\n",
    "\n",
    "#Brush options frame\n",
    "brush_options_frame = Frame(root)\n",
    "brush_options_frame.pack(pady=20)\n",
    "\n",
    "#Brush size\n",
    "brush_size_frame = LabelFrame(brush_options_frame, text=\"Brush size\")\n",
    "brush_size_frame.grid(row=0, column=0, padx=50)\n",
    "\n",
    "#Brush slider\n",
    "my_slider = ttk.Scale(brush_size_frame, from_=1, to=100, command=change_brush_size, orient=VERTICAL, value=10)\n",
    "my_slider.pack(pady=10, padx=10)\n",
    "\n",
    "#Brush slider label\n",
    "slider_label = Label(brush_size_frame, text=my_slider.get())\n",
    "slider_label.pack(pady=5)\n",
    "\n",
    "\n",
    "brush_type = StringVar()\n",
    "brush_type.set(\"round\")\n",
    "\n",
    "#Change colors\n",
    "change_colors_frame = LabelFrame(brush_options_frame, text=\"Change colors\")\n",
    "change_colors_frame.grid(row=0, column=2)\n",
    "\n",
    "#Change brush color button\n",
    "brush_color_button = Button(change_colors_frame, text=\"Brush Color\", command=change_brush_color)\n",
    "brush_color_button.pack(pady=10, padx=10)\n",
    "\n",
    "\n",
    "#Program options frame\n",
    "options_frame = LabelFrame(brush_options_frame, text=\"Program Options\")\n",
    "options_frame.grid(row=0,column=3,padx=50)\n",
    "\n",
    "#Clear screen button\n",
    "clear_button = Button(options_frame, text=\"Clear Screen\", command=clear_screen)\n",
    "clear_button.pack(padx=10, pady=10) \n",
    "\n",
    "# #Save image\n",
    "# save_image_button = Button(options_frame, text=\"Save to PNG\", command=save_as_png)\n",
    "# save_image_button.pack(pady=10, padx=10)\n",
    "\n",
    "#Predict digit\n",
    "predict_button = Button(options_frame, text=\"Predicting digit\", command=predict_digit_drawn)\n",
    "predict_button.pack(pady=10, padx=10)"
   ]
  },
  {
   "cell_type": "code",
   "execution_count": null,
   "metadata": {},
   "outputs": [],
   "source": [
    "root.mainloop()"
   ]
  },
  {
   "cell_type": "code",
   "execution_count": null,
   "metadata": {},
   "outputs": [],
   "source": []
  },
  {
   "cell_type": "code",
   "execution_count": null,
   "metadata": {},
   "outputs": [],
   "source": []
  }
 ],
 "metadata": {
  "kernelspec": {
   "display_name": "Python 3",
   "language": "python",
   "name": "python3"
  },
  "language_info": {
   "codemirror_mode": {
    "name": "ipython",
    "version": 3
   },
   "file_extension": ".py",
   "mimetype": "text/x-python",
   "name": "python",
   "nbconvert_exporter": "python",
   "pygments_lexer": "ipython3",
   "version": "3.7.6"
  }
 },
 "nbformat": 4,
 "nbformat_minor": 4
}
